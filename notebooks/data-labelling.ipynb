{
 "cells": [
  {
   "cell_type": "code",
   "execution_count": 1,
   "metadata": {},
   "outputs": [],
   "source": [
    "import matplotlib.pyplot as plt\n",
    "import os\n",
    "import pandas as pd"
   ]
  },
  {
   "cell_type": "code",
   "execution_count": 2,
   "metadata": {},
   "outputs": [],
   "source": [
    "SOURCE_DIR = \"../04-data/orbits\"  # where the orbit data is located\n",
    "LABELS_DIR = \"../04-data\"  # where the label mapping is located\n",
    "TARGET_DIR = \"merged\"  # where the result is to be written"
   ]
  },
  {
   "cell_type": "code",
   "execution_count": 3,
   "metadata": {},
   "outputs": [],
   "source": [
    "EVENT_COLUMNS = [\"SK outer in\", \"SK inner in\",\"MP outer in\", \"MP inner in\",\n",
    "                 \"MP inner out\", \"MP outer out\", \"SK inner out\", \"SK outer out\"]\n",
    "\n",
    "DATA_COLUMNS = [ 'X_MSO', 'Y_MSO', 'Z_MSO','BX_MSO','BY_MSO','BZ_MSO', 'DBX_MSO', 'DBY_MSO', 'DBZ_MSO', 'RHO_DIPOLE', 'PHI_DIPOLE',\n",
    "       'THETA_DIPOLE', 'BABS_DIPOLE', 'BX_DIPOLE', 'BY_DIPOLE', 'BZ_DIPOLE',\n",
    "       'RHO', 'RXY', 'X', 'Y', 'Z', 'VX', 'VY', 'VZ', 'VABS', 'D', 'COSALPHA',\n",
    "       'EXTREMA']"
   ]
  },
  {
   "cell_type": "code",
   "execution_count": 4,
   "metadata": {},
   "outputs": [],
   "source": [
    "def normalize(df, columns):\n",
    "    \"\"\"Normalize the specified columns in the given data frame.\"\"\"\n",
    "\n",
    "    df[columns] = (df[columns] - df[columns].mean()) / df[columns].std()"
   ]
  },
  {
   "cell_type": "code",
   "execution_count": 5,
   "metadata": {},
   "outputs": [],
   "source": [
    "def prepare_orbit(orbit_id):\n",
    "    \"\"\"Load the specified orbit and preprocess it for merging.\"\"\"\n",
    "\n",
    "    file = os.path.join(SOURCE_DIR, f\"messenger-{orbit_id:04d}.csv\")\n",
    "    if os.path.exists(file):\n",
    "        df_orbit = pd.read_csv(file, usecols=DATA_COLUMNS + [\"DATE\"], parse_dates=True)\n",
    "        #df_orbit.interpolate()  # interpolate missing values\n",
    "        df_orbit[\"ORBIT\"] = orbit_id  # add orbit id\n",
    "        #normalize(df_orbit, DATA_COLUMNS)\n",
    "        return df_orbit"
   ]
  },
  {
   "cell_type": "code",
   "execution_count": 6,
   "metadata": {},
   "outputs": [],
   "source": [
    "def apply_labels(df_train, df_labels):\n",
    "    \"\"\"Assign labels to the training time series using event boundary labels.\"\"\"\n",
    "\n",
    "    df_train[\"LABEL\"] = 0 # interplanetary magnetic field is default\n",
    "\n",
    "    for row in range(len(df_labels)):\n",
    "        # bow shock crossing\n",
    "        bs_selector = ((df_train[\"DATE\"] >= df_labels.iloc[row][\"SK outer\"])\n",
    "                         & (df_train[\"DATE\"] < df_labels.iloc[row][\"SK inner\"]))\\\n",
    "                      | ((df_train[\"DATE\"] >= df_labels.iloc[row][\"SK inner.1\"])\n",
    "                         & (df_train[\"DATE\"] < df_labels.iloc[row][\"SK outer.1\"]))\n",
    "        df_train.loc[bs_selector, \"LABEL\"] = 1  # bow shock crossing\n",
    "    \n",
    "        #magnetosheath\n",
    "        msh_selector = ((df_train[\"DATE\"] >= df_labels.iloc[row][\"SK inner\"])\n",
    "                         & (df_train[\"DATE\"] < df_labels.iloc[row][\"MP outer\"])) \\\n",
    "                      | ((df_train[\"DATE\"] >= df_labels.iloc[row][\"MP outer.1\"])\n",
    "                         & (df_train[\"DATE\"] < df_labels.iloc[row][\"SK inner.1\"]))\n",
    "        df_train.loc[msh_selector, \"LABEL\"] = 2  # magnetosheath\n",
    "\n",
    "        # magnetopause crossing\n",
    "        mp_selector = ((df_train[\"DATE\"] >= df_labels.iloc[row][\"MP outer\"])\n",
    "                        & (df_train[\"DATE\"] < df_labels.iloc[row][\"MP inner\"]))\\\n",
    "                       | ((df_train[\"DATE\"] >= df_labels.iloc[row][\"MP inner.1\"])\n",
    "                        & (df_train[\"DATE\"] < df_labels.iloc[row][\"MP outer.1\"]))\n",
    "        df_train.loc[mp_selector, \"LABEL\"] = 3  # MP crossing\n",
    "\n",
    "        # magnetosphere\n",
    "        msp_selector = (df_train[\"DATE\"] >= df_labels.iloc[row][\"MP inner\"])\\\n",
    "                         & (df_train[\"DATE\"] < df_labels.iloc[row][\"MP inner.1\"])\n",
    "        df_train.loc[msp_selector, \"LABEL\"] = 4  # magnetosphere"
   ]
  },
  {
   "cell_type": "code",
   "execution_count": 7,
   "metadata": {},
   "outputs": [
    {
     "name": "stdout",
     "output_type": "stream",
     "text": [
      "4040\n"
     ]
    }
   ],
   "source": [
    "labels_path = os.path.join(LABELS_DIR, \"Mercury_BS_and_MP_crossings_Philpott - List 1.csv\")\n",
    "df_labels = pd.read_csv(labels_path, parse_dates=True)\n",
    "df_labels = df_labels.dropna()  # remove invalid orbits\n",
    "print(len(df_labels[\"Orbit\"]))"
   ]
  },
  {
   "cell_type": "code",
   "execution_count": null,
   "metadata": {},
   "outputs": [],
   "source": [
    "df_train = pd.concat(map(prepare_orbit, df_labels[\"Orbit\"]))\n",
    "print(df_train.iloc[43460:43465])"
   ]
  },
  {
   "cell_type": "code",
   "execution_count": null,
   "metadata": {},
   "outputs": [],
   "source": [
    "apply_labels(df_train, df_labels)\n",
    "print(df_train.iloc[32245:32255])"
   ]
  },
  {
   "cell_type": "code",
   "execution_count": null,
   "metadata": {},
   "outputs": [],
   "source": [
    "df_train.to_csv(os.path.join(TARGET_DIR, \"df_train.csv\"))\n",
    "\n",
    "df_train_description = df_train[DATA_COLUMNS].describe()\n",
    "df_train_description.to_excel(os.path.join(TARGET_DIR, \"df_train_total_description.xlsx\"))\n",
    "\n",
    "df_train_description = df_train.groupby([\"LABEL\"])[DATA_COLUMNS].describe()\n",
    "df_train_description.to_excel(os.path.join(TARGET_DIR, \"df_train_label_description.xlsx\"))"
   ]
  },
  {
   "cell_type": "code",
   "execution_count": null,
   "metadata": {},
   "outputs": [],
   "source": [
    "for i in range(0,150):\n",
    "    try:\n",
    "        df_label = df_labels[df_labels.Orbit == i]\n",
    "        df_train = pd.concat(map(prepare_orbit, df_label[\"Orbit\"]))\n",
    "        df = apply_labels(df_train, df_label)\n",
    "        df_train.to_csv(os.path.join(TARGET_DIR, \"df_train_{}.csv\".format(i)))\n",
    "    except:\n",
    "        print(i)\n",
    "        pass\n"
   ]
  }
 ],
 "metadata": {
  "kernelspec": {
   "display_name": "Python 3",
   "language": "python",
   "name": "python3"
  },
  "language_info": {
   "codemirror_mode": {
    "name": "ipython",
    "version": 3
   },
   "file_extension": ".py",
   "mimetype": "text/x-python",
   "name": "python",
   "nbconvert_exporter": "python",
   "pygments_lexer": "ipython3",
   "version": "3.8.5"
  }
 },
 "nbformat": 4,
 "nbformat_minor": 4
}
